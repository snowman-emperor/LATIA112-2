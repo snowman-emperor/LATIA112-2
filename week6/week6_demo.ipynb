{
  "nbformat": 4,
  "nbformat_minor": 0,
  "metadata": {
    "colab": {
      "provenance": [],
      "toc_visible": true
    },
    "kernelspec": {
      "name": "python3",
      "display_name": "Python 3"
    },
    "language_info": {
      "name": "python"
    }
  },
  "cells": [
    {
      "cell_type": "markdown",
      "source": [
        "# Matplotlib基本練習\n",
        "\n"
      ],
      "metadata": {
        "id": "bX5p1tgOSu1i"
      }
    },
    {
      "cell_type": "markdown",
      "source": [
        "# 1.繪製簡單的折線圖"
      ],
      "metadata": {
        "id": "6o9-Eft8ZlLv"
      }
    },
    {
      "cell_type": "code",
      "source": [
        "# 請在\"填空\"處，輸入所需要的指令或參數\n",
        "\n",
        "import pandas as [填空]\n",
        "import [填空] as plt\n",
        "\n",
        "products = {\"分類\": [\"居家\",\"居家\",\"娛樂\",\"娛樂\",\"科技\",\"科技\"],\n",
        "       \"商店\": [\"家樂福A\",\"大潤發A\",\"家樂福B\",\"全聯超A\",\"大潤發B\",\"家樂福C\"],\n",
        "       \"價格\": [11.42,23.50,19.99,15.95,55.75,111.55]}\n",
        "\n",
        "df = pd.DataFrame([填空], columns = [\"分類\", [填空], \"價格\"])\n",
        "df[\"價格\"].plot(kind=[填空]) # 繪製折線圖\n",
        "plt.grid([填空]) # 顯示圖表的格線"
      ],
      "metadata": {
        "id": "fRNlsSBVZs-X"
      },
      "execution_count": null,
      "outputs": []
    },
    {
      "cell_type": "code",
      "source": [
        "# Colab 進行matplotlib繪圖時顯示繁體中文\n",
        "# 下載台北思源黑體並命名taipei_sans_tc_beta.ttf，移至指定路徑\n",
        "!wget -O TaipeiSansTCBeta-Regular.ttf https://drive.google.com/uc?id=1eGAsTN1HBpJAkeVM57_C7ccp7hbgSz3_&export=download\n",
        "\n",
        "import matplotlib as mpl\n",
        "import matplotlib.pyplot as plt\n",
        "from matplotlib.font_manager import fontManager\n",
        "\n",
        "fontManager.addfont('TaipeiSansTCBeta-Regular.ttf')\n",
        "mpl.rc('font', family='Taipei Sans TC Beta')"
      ],
      "metadata": {
        "colab": {
          "base_uri": "https://localhost:8080/"
        },
        "id": "8beWOAn4gsgH",
        "outputId": "1baaf226-f00f-4795-fc60-09a9e175f684"
      },
      "execution_count": null,
      "outputs": [
        {
          "output_type": "stream",
          "name": "stdout",
          "text": [
            "--2024-03-26 02:08:29--  https://drive.google.com/uc?id=1eGAsTN1HBpJAkeVM57_C7ccp7hbgSz3_\n",
            "Resolving drive.google.com (drive.google.com)... 74.125.203.102, 74.125.203.138, 74.125.203.113, ...\n",
            "Connecting to drive.google.com (drive.google.com)|74.125.203.102|:443... connected.\n",
            "HTTP request sent, awaiting response... 303 See Other\n",
            "Location: https://drive.usercontent.google.com/download?id=1eGAsTN1HBpJAkeVM57_C7ccp7hbgSz3_ [following]\n",
            "--2024-03-26 02:08:30--  https://drive.usercontent.google.com/download?id=1eGAsTN1HBpJAkeVM57_C7ccp7hbgSz3_\n",
            "Resolving drive.usercontent.google.com (drive.usercontent.google.com)... 64.233.187.132, 2404:6800:4008:c05::84\n",
            "Connecting to drive.usercontent.google.com (drive.usercontent.google.com)|64.233.187.132|:443... connected.\n",
            "HTTP request sent, awaiting response... 200 OK\n",
            "Length: 20659344 (20M) [application/octet-stream]\n",
            "Saving to: ‘TaipeiSansTCBeta-Regular.ttf’\n",
            "\n",
            "TaipeiSansTCBeta-Re 100%[===================>]  19.70M  --.-KB/s    in 0.1s    \n",
            "\n",
            "2024-03-26 02:08:31 (178 MB/s) - ‘TaipeiSansTCBeta-Regular.ttf’ saved [20659344/20659344]\n",
            "\n"
          ]
        }
      ]
    },
    {
      "cell_type": "markdown",
      "source": [
        "# 2.顯示x軸和y軸的說明標籤"
      ],
      "metadata": {
        "id": "IzqRi2WyRZFh"
      }
    },
    {
      "cell_type": "code",
      "source": [
        "# 請在\"填空\"處，輸入所需要的指令或參數\n",
        "# Line 3-12行請複製上一題3-12行的解答\n",
        "\n",
        "\n",
        "\n",
        "\n",
        "\n",
        "\n",
        "\n",
        "\n",
        "\n",
        "\n",
        "\n",
        "# 延伸上一題相同內容\n",
        "\n",
        "plt[填空]([0, 1, 2, 3, 4, 5], [填空])\n",
        "plt[填空](\"商店名稱\")\n",
        "plt.ylabel([填空])"
      ],
      "metadata": {
        "id": "D9AfvfU-Szu7"
      },
      "execution_count": null,
      "outputs": []
    },
    {
      "cell_type": "markdown",
      "source": [
        "# 3.請繪製水平長條圖"
      ],
      "metadata": {
        "id": "Fg_f-NzNSKiU"
      }
    },
    {
      "cell_type": "code",
      "source": [
        "# 請在\"填空\"處，輸入所需要的指令或參數\n",
        "# Line 3-18行請複製上一題3-18行的解答\n",
        "\n",
        "\n",
        "\n",
        "\n",
        "\n",
        "\n",
        "\n",
        "\n",
        "\n",
        "\n",
        "\n",
        "\n",
        "\n",
        "\n",
        "\n",
        "\n",
        "\n",
        "# 延伸上一題相同內容\n",
        "# 水平長條圖 (X軸是價格金額，Y軸是商店名稱)\n",
        "plt.[填空]([0, 1, 2, 3, 4, 5], [填空])"
      ],
      "metadata": {
        "id": "FuhQKQqRSLOc"
      },
      "execution_count": null,
      "outputs": []
    },
    {
      "cell_type": "markdown",
      "source": [
        "# 4.請繪製派圖"
      ],
      "metadata": {
        "id": "uCVnMCCVnbD4"
      }
    },
    {
      "cell_type": "code",
      "source": [
        "# 請在\"填空\"處，輸入所需要的指令或參數\n",
        "# Line 3-22行請複製上一題3-22行的解答\n",
        "\n",
        "\n",
        "\n",
        "\n",
        "\n",
        "\n",
        "\n",
        "\n",
        "\n",
        "\n",
        "\n",
        "\n",
        "\n",
        "\n",
        "\n",
        "\n",
        "\n",
        "\n",
        "\n",
        "\n",
        "\n",
        "# 延伸上一題相同內容\n",
        "# 派圖(groupby 是依據\"分類\"的數據，標題是商店名稱)\n",
        "df_grouped = df.groupby([填空])\n",
        "type = df_grouped[[填空]].count()\n",
        "[填空].plot(kind=[填空], title=[填空])\n",
        "plt.ylabel(\"\")"
      ],
      "metadata": {
        "id": "82hFrtgBnbcl"
      },
      "execution_count": null,
      "outputs": []
    }
  ]
}