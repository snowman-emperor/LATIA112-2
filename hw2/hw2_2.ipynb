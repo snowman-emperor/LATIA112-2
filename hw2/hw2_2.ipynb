{
  "nbformat": 4,
  "nbformat_minor": 0,
  "metadata": {
    "colab": {
      "provenance": []
    },
    "kernelspec": {
      "name": "python3",
      "display_name": "Python 3"
    },
    "language_info": {
      "name": "python"
    }
  },
  "cells": [
    {
      "cell_type": "code",
      "execution_count": 5,
      "metadata": {
        "colab": {
          "base_uri": "https://localhost:8080/"
        },
        "id": "hXCWQuC89RRj",
        "outputId": "50d66a88-ce5a-4fc6-8664-371dce8af2de"
      },
      "outputs": [
        {
          "output_type": "stream",
          "name": "stdout",
          "text": [
            "CSV has Created.\n",
            "  Header Cell - Column 0       Introductory Set  \\\n",
            "0                  Price              $65 / £40   \n",
            "1                 Models                     16   \n",
            "2         Paints & tools                      ✅   \n",
            "3        Plastic scenery                      ❌   \n",
            "4              Battlemat                  Paper   \n",
            "5               Handbook               47 pages   \n",
            "6     Mini core rulebook                      ❌   \n",
            "7                 Extras  6 dice, 1 range ruler   \n",
            "\n",
            "                                       Starter Set  \\\n",
            "0                                       $110 / £65   \n",
            "1                                               38   \n",
            "2                                                ❌   \n",
            "3                                                ❌   \n",
            "4                                            Paper   \n",
            "5                                         63 pages   \n",
            "6                                                ❌   \n",
            "7  10 dice, 2 range rulers, rules reference sheets   \n",
            "\n",
            "                              Ultimate Starter Set  \n",
            "0                                      $210 / £125  \n",
            "1                                               44  \n",
            "2                                                ❌  \n",
            "3                                                ✅  \n",
            "4                                        Cardboard  \n",
            "5                                         71 pages  \n",
            "6                                                ✅  \n",
            "7  10 dice, 2 range rulers, rules reference sheets  \n"
          ]
        }
      ],
      "source": [
        "import requests\n",
        "from bs4 import BeautifulSoup\n",
        "import pandas as pd\n",
        "\n",
        "# 載入目標網頁\n",
        "url = 'https://www.gamesradar.com/warhammer-40k-starter-sets-compared-which-one-should-you-buy/'\n",
        "response = requests.get(url)\n",
        "response.raise_for_status()  # Raise an exception for bad status codes\n",
        "\n",
        "# 使用Beautiful Soup解析HTML\n",
        "soup = BeautifulSoup(response.text, 'html.parser')\n",
        "\n",
        "# 找到表格元素\n",
        "table = soup.find('table')\n",
        "\n",
        "# 使用pandas的read_html來解析表格\n",
        "dfs = pd.read_html(str(table), header=0, keep_default_na=False)\n",
        "\n",
        "# 選擇第一個表格\n",
        "selected_table = dfs[0]\n",
        "\n",
        "# 將資料儲存為CSV檔案\n",
        "selected_table.to_csv('soup.csv', index=False)\n",
        "\n",
        "print(\"CSV has Created.\")\n",
        "print(selected_table)\n"
      ]
    }
  ]
}